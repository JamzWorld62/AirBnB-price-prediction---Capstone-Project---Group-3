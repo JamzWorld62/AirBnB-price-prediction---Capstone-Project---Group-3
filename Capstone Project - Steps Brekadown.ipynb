{
 "cells": [
  {
   "cell_type": "code",
   "execution_count": 1,
   "id": "e96bb1b0-8a74-4da8-b13f-b46075bde6f0",
   "metadata": {},
   "outputs": [],
   "source": [
    "# Import necessary libraries\n",
    "import pandas as pd\n",
    "import numpy as np\n",
    "import matplotlib.pyplot as plt\n",
    "import seaborn as sns\n",
    "from sklearn.model_selection import train_test_split\n",
    "from sklearn.linear_model import LinearRegression\n",
    "from sklearn.tree import DecisionTreeRegressor\n",
    "from sklearn.ensemble import RandomForestRegressor, GradientBoostingRegressor\n",
    "from sklearn.metrics import mean_squared_error, r2_score\n",
    "from sklearn.impute import SimpleImputer"
   ]
  },
  {
   "cell_type": "code",
   "execution_count": 2,
   "id": "a2dbcc36-b814-4115-a2e4-3fb1aac9ae0e",
   "metadata": {},
   "outputs": [],
   "source": [
    "# Load data from CSV files\n",
    "calendar_df = pd.read_csv(\"C:\\\\Users\\\\Anup Jacob\\\\Downloads\\\\capstonegroup3\\\\calendar.csv\")\n",
    "listings_df = pd.read_csv(\"C:\\\\Users\\\\Anup Jacob\\\\Downloads\\\\capstonegroup3\\\\listings.csv\") \n",
    "hosts_df = pd.read_csv(\"C:\\\\Users\\\\Anup Jacob\\\\Downloads\\\\capstonegroup3\\\\hosts.csv\")\n"
   ]
  },
  {
   "cell_type": "code",
   "execution_count": 3,
   "id": "ed371bc0-cde6-4d22-bfc2-cef3473f5201",
   "metadata": {},
   "outputs": [
    {
     "name": "stdout",
     "output_type": "stream",
     "text": [
      "Columns in listings_df:\n",
      "Index(['listing_id', 'listing_url', 'name', 'description', 'latitude',\n",
      "       'longitude', 'property_type', 'room_type', 'accomodates',\n",
      "       'bathrooms_text', 'bedrooms', 'beds', 'amenities', 'host_id'],\n",
      "      dtype='object')\n"
     ]
    }
   ],
   "source": [
    "# Print column names of listings_df\n",
    "print(\"Columns in listings_df:\")\n",
    "print(listings_df.columns)"
   ]
  },
  {
   "cell_type": "code",
   "execution_count": 4,
   "id": "59f1e15d-07a4-4261-b18a-44c8ba666c5e",
   "metadata": {},
   "outputs": [
    {
     "name": "stdout",
     "output_type": "stream",
     "text": [
      "Calendar table shape: (319192, 8)\n",
      "Unique listings in Calendar: 1749\n"
     ]
    }
   ],
   "source": [
    "# Data Understanding and Feature Creation\n",
    "\n",
    "# Examine Calendar table\n",
    "print(f\"Calendar table shape: {calendar_df.shape}\")\n",
    "print(f\"Unique listings in Calendar: {calendar_df['listing_id'].nunique()}\")\n",
    "\n",
    "# Clean price column and convert to float\n",
    "calendar_df['price'] = calendar_df['price'].astype(str).str.replace('$', '').astype(float)\n",
    "\n",
    "# Aggregate Calendar data by listing_id\n",
    "calendar_agg_df = calendar_df.groupby('listing_id').agg(\n",
    "    avg_price=('price', 'mean'),\n",
    "    num_bookings=('available', lambda x: sum(x == 0)),\n",
    "    avg_min_nights=('minimum_nights', 'mean'),\n",
    "    avg_max_nights=('maximum_nights', 'mean')\n",
    ").reset_index()\n",
    "\n",
    "# Select necessary columns from Listings data\n",
    "listings_cols = ['listing_id', 'bedrooms', 'beds', 'property_type', 'room_type']\n",
    "listings_subset_df = listings_df[listings_cols]\n",
    "\n",
    "# Join Listings data \n",
    "listings_join_df = pd.merge(listings_subset_df, calendar_agg_df, on='listing_id', how='left')\n",
    "\n",
    "# Remove the merging step with hosts_df\n",
    "df = listings_join_df"
   ]
  },
  {
   "cell_type": "code",
   "execution_count": 5,
   "id": "db0f7154-05c7-4ff7-a4d4-51675a3dd799",
   "metadata": {},
   "outputs": [
    {
     "name": "stdout",
     "output_type": "stream",
     "text": [
      "Missing values per column:\n",
      "listing_id          0\n",
      "bedrooms          128\n",
      "beds               41\n",
      "property_type       0\n",
      "room_type           0\n",
      "avg_price           0\n",
      "num_bookings        0\n",
      "avg_min_nights      0\n",
      "avg_max_nights      0\n",
      "dtype: int64\n",
      "Numeric variable statistics:\n",
      "         listing_id     bedrooms         beds    avg_price  num_bookings  \\\n",
      "count  1.749000e+03  1621.000000  1708.000000  1749.000000   1749.000000   \n",
      "mean   3.485506e+07     1.529303     2.220726   110.115098     84.827330   \n",
      "std    1.523689e+07     1.091453     2.227509   184.006315     69.710269   \n",
      "min    5.090400e+04     1.000000     1.000000    14.000000      0.000000   \n",
      "25%    2.337286e+07     1.000000     1.000000    60.000000     12.000000   \n",
      "50%    3.889829e+07     1.000000     2.000000    79.055000     87.000000   \n",
      "75%    4.838954e+07     2.000000     3.000000   112.338710    153.000000   \n",
      "max    5.398332e+07    20.000000    44.000000  5800.000000    205.000000   \n",
      "\n",
      "       avg_min_nights  avg_max_nights  \n",
      "count     1749.000000     1749.000000  \n",
      "mean         5.369120      811.765559  \n",
      "std         21.436314      516.822154  \n",
      "min          1.000000        1.000000  \n",
      "25%          1.000000      365.000000  \n",
      "50%          2.000000     1125.000000  \n",
      "75%          3.000000     1125.000000  \n",
      "max        500.000000     9999.000000  \n",
      "Frequency counts for property_type:\n",
      "property_type\n",
      "Entire rental unit                     0.560892\n",
      "Entire loft                            0.062893\n",
      "Private room in rental unit            0.058891\n",
      "Entire condominium (condo)             0.058319\n",
      "Private room in residential home       0.045740\n",
      "Entire townhouse                       0.041166\n",
      "Private room in townhouse              0.037736\n",
      "Entire residential home                0.033734\n",
      "Private room in bed and breakfast      0.015437\n",
      "Room in aparthotel                     0.013722\n",
      "Entire serviced apartment              0.013722\n",
      "Room in boutique hotel                 0.013150\n",
      "Private room in condominium (condo)    0.007433\n",
      "Room in hotel                          0.006861\n",
      "Private room in loft                   0.003431\n",
      "Entire guest suite                     0.003431\n",
      "Private room in guesthouse             0.002859\n",
      "Private room                           0.002287\n",
      "Private room in casa particular        0.001715\n",
      "Private room in guest suite            0.001715\n",
      "Entire villa                           0.001715\n",
      "Shared room in residential home        0.001715\n",
      "Entire cottage                         0.001144\n",
      "Entire guesthouse                      0.001144\n",
      "Private room in boat                   0.001144\n",
      "Shared room in casa particular         0.000572\n",
      "Boat                                   0.000572\n",
      "Entire vacation home                   0.000572\n",
      "Casa particular                        0.000572\n",
      "Shared room in bed and breakfast       0.000572\n",
      "Private room in serviced apartment     0.000572\n",
      "Tent                                   0.000572\n",
      "Shared room in loft                    0.000572\n",
      "Private room in religious building     0.000572\n",
      "Private room in villa                  0.000572\n",
      "Tiny house                             0.000572\n",
      "Houseboat                              0.000572\n",
      "Yurt                                   0.000572\n",
      "Castle                                 0.000572\n",
      "Name: proportion, dtype: float64\n",
      "Frequency counts for room_type:\n",
      "room_type\n",
      "Entire home/apt    0.788451\n",
      "Private room       0.202401\n",
      "Hotel room         0.005718\n",
      "Shared room        0.003431\n",
      "Name: proportion, dtype: float64\n"
     ]
    }
   ],
   "source": [
    "# Data Quality Checks\n",
    "\n",
    "# Check for missing values\n",
    "print(f\"Missing values per column:\\n{df.isnull().sum()}\")\n",
    "\n",
    "# Descriptive statistics for numeric variables\n",
    "print(f\"Numeric variable statistics:\\n{df.describe()}\")\n",
    "\n",
    "# Frequency counts for categorical variables\n",
    "cat_vars = ['property_type', 'room_type']\n",
    "for var in cat_vars:\n",
    "    print(f\"Frequency counts for {var}:\\n{df[var].value_counts(normalize=True)}\")\n",
    "    \n",
    "# Drop rows with missing target variable  \n",
    "df = df.dropna(subset=['avg_price'])"
   ]
  },
  {
   "cell_type": "code",
   "execution_count": null,
   "id": "69a74ea2-3ada-45a6-94f9-ee4710b6e073",
   "metadata": {},
   "outputs": [],
   "source": []
  }
 ],
 "metadata": {
  "kernelspec": {
   "display_name": "Python 3 (ipykernel)",
   "language": "python",
   "name": "python3"
  },
  "language_info": {
   "codemirror_mode": {
    "name": "ipython",
    "version": 3
   },
   "file_extension": ".py",
   "mimetype": "text/x-python",
   "name": "python",
   "nbconvert_exporter": "python",
   "pygments_lexer": "ipython3",
   "version": "3.11.7"
  }
 },
 "nbformat": 4,
 "nbformat_minor": 5
}
